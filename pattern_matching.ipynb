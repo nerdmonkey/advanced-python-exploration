{
 "cells": [
  {
   "cell_type": "markdown",
   "id": "6cf0cc42",
   "metadata": {},
   "source": [
    "# Pattern Matching in Python: A Tutorial\n",
    "\n",
    "Pattern matching is a powerful feature introduced in Python 3.10 that allows you to match data structures against specific patterns and execute code based on the structure and content of the data. This tutorial will cover the different types of pattern matching available in Python, including literal patterns, capture patterns, class patterns, sequence patterns, and pattern guards.\n"
   ]
  },
  {
   "cell_type": "markdown",
   "id": "88167d8d",
   "metadata": {},
   "source": [
    "## 1. Literal Patterns\n",
    "\n",
    "Literal patterns are used to match specific values directly. These can be numbers, strings, or any immutable data type.\n",
    "\n",
    "### Example:"
   ]
  },
  {
   "cell_type": "code",
   "execution_count": null,
   "id": "b0db016b",
   "metadata": {},
   "outputs": [],
   "source": [
    "value = 42\n",
    "\n",
    "match value:\n",
    "    case 42:\n",
    "        print(\"The answer to life, the universe, and everything\")\n",
    "    case \"hello\":\n",
    "        print(\"A greeting\")\n",
    "    case True:\n",
    "        print(\"A boolean value\")\n",
    "    case None:\n",
    "        print(\"A null value\")\n",
    "    case _:\n",
    "        print(\"No match found\")\n",
    "\n",
    "# Outputs: The answer to life, the universe, and everything"
   ]
  },
  {
   "cell_type": "markdown",
   "id": "2a1b2273",
   "metadata": {},
   "source": [
    "## 2. Capture Patterns\n",
    "\n",
    "Capture patterns are used to extract and bind parts of a data structure to variable names. This allows you to work with the extracted data within the matched case.\n",
    "\n",
    "### Example:"
   ]
  },
  {
   "cell_type": "code",
   "execution_count": null,
   "id": "e7a64604",
   "metadata": {},
   "outputs": [],
   "source": [
    "value = (1, 2)\n",
    "\n",
    "match value:\n",
    "    case (a, b):\n",
    "        print(f\"Captured a tuple with values: {a} and {b}\")\n",
    "    case (x, y, z):\n",
    "        print(f\"Captured a tuple with values: {x}, {y}, and {z}\")\n",
    "    case [x, y]:\n",
    "        print(f\"Captured a list with two values: {x} and {y}\")\n",
    "    case [x, y, z]:\n",
    "        print(f\"Captured a list with three values: {x}, {y}, and {z}\")\n",
    "    case _:\n",
    "        print(\"No match found\")\n",
    "\n",
    "# Outputs: Captured a tuple with values: 1 and 2"
   ]
  },
  {
   "cell_type": "markdown",
   "id": "57016886",
   "metadata": {},
   "source": [
    "## 3. Class Patterns\n",
    "\n",
    "Class patterns match objects of a specific class and can capture attributes of the object. This requires the class to be defined with a `__match_args__` attribute or `__init__` parameters.\n",
    "\n",
    "### Example:"
   ]
  },
  {
   "cell_type": "code",
   "execution_count": null,
   "id": "947db217",
   "metadata": {},
   "outputs": [],
   "source": [
    "class Point:\n",
    "    def __init__(self, x, y):\n",
    "        self.x = x\n",
    "        self.y = y\n",
    "\n",
    "value = Point(10, 20)\n",
    "\n",
    "match value:\n",
    "    case Point(x, y):\n",
    "        print(f\"Matched a Point with coordinates: ({x}, {y})\")\n",
    "    case Point(x, y):\n",
    "        print(f\"Matched another Point with coordinates: ({x}, {y})\")\n",
    "    case Point(x, y) if x == y:\n",
    "        print(f\"Matched a Point where x equals y: ({x}, {y})\")\n",
    "    case _:\n",
    "        print(\"No match found\")\n",
    "\n",
    "# Outputs: Matched a Point with coordinates: (10, 20)"
   ]
  },
  {
   "cell_type": "markdown",
   "id": "995c140d",
   "metadata": {},
   "source": [
    "## 4. Sequence Patterns\n",
    "\n",
    "Sequence patterns match sequences like lists, tuples, or strings. They can be used to match specific lengths or structures of sequences.\n",
    "\n",
    "### Example:"
   ]
  },
  {
   "cell_type": "code",
   "execution_count": null,
   "id": "0c2429f3",
   "metadata": {},
   "outputs": [],
   "source": [
    "value = [1, 2, 3]\n",
    "\n",
    "match value:\n",
    "    case [a, b, c]:\n",
    "        print(f\"Matched a list with three elements: {a}, {b}, {c}\")\n",
    "    case (x, y):\n",
    "        print(f\"Matched a tuple with two elements: {x} and {y}\")\n",
    "    case [x, y]:\n",
    "        print(f\"Matched a list with two elements: {x} and {y}\")\n",
    "    case _:\n",
    "        print(\"No match found\")\n",
    "\n",
    "# Outputs: Matched a list with three elements: 1, 2, 3"
   ]
  },
  {
   "cell_type": "markdown",
   "id": "a9a88b4b",
   "metadata": {},
   "source": [
    "## 5. Pattern Guards\n",
    "\n",
    "Pattern guards allow you to add additional conditions to your patterns. They use the `if` keyword to specify a condition that must be met for the pattern to match.\n",
    "\n",
    "### Example:"
   ]
  },
  {
   "cell_type": "code",
   "execution_count": null,
   "id": "c4c6896d",
   "metadata": {},
   "outputs": [],
   "source": [
    "value = (10, 5)\n",
    "\n",
    "match value:\n",
    "    case (x, y) if x > y:\n",
    "        print(f\"Matched a tuple where the first element {x} is greater than the second element {y}\")\n",
    "    case (x, y) if x == y:\n",
    "        print(f\"Matched a tuple where the elements are equal: {x}, {y}\")\n",
    "    case [a, b, c] if a + b == c:\n",
    "        print(f\"Matched a list where the sum of the first two elements {a} and {b} equals the third element {c}\")\n",
    "    case _:\n",
    "        print(\"No match found\")\n",
    "\n",
    "# Outputs: Matched a tuple where the first element 10 is greater than the second element 5"
   ]
  },
  {
   "cell_type": "markdown",
   "id": "0366dca7",
   "metadata": {},
   "source": [
    "## Conclusion\n",
    "\n",
    "Pattern matching in Python provides a flexible and powerful way to handle different data structures and conditions. By using literal patterns, capture patterns, class patterns, sequence patterns, and pattern guards, you can write more readable and maintainable code that elegantly handles various cases and structures."
   ]
  }
 ],
 "metadata": {},
 "nbformat": 4,
 "nbformat_minor": 5
}
